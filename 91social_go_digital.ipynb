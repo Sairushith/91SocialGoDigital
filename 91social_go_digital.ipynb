{
  "nbformat": 4,
  "nbformat_minor": 0,
  "metadata": {
    "colab": {
      "name": "91social go digital.ipynb",
      "provenance": [],
      "collapsed_sections": []
    },
    "kernelspec": {
      "name": "python3",
      "display_name": "Python 3"
    }
  },
  "cells": [
    {
      "cell_type": "code",
      "metadata": {
        "id": "buHFY8HFsJTk"
      },
      "source": [
        ""
      ],
      "execution_count": null,
      "outputs": []
    },
    {
      "cell_type": "markdown",
      "metadata": {
        "id": "lvY9URFEs-5N"
      },
      "source": [
        "1: Write a Python program to read a file line by line and store it into a list."
      ]
    },
    {
      "cell_type": "code",
      "metadata": {
        "colab": {
          "base_uri": "https://localhost:8080/"
        },
        "id": "eOOwHsj6tNT_",
        "outputId": "59575493-3b27-4700-da28-5dfcf70eb4bd"
      },
      "source": [
        "def file_read(fname):\r\n",
        "        with open(fname) as f:\r\n",
        "                #Content_list is the list that contains the read lines.     \r\n",
        "                content_list = f.readlines()\r\n",
        "                print(content_list)\r\n",
        "                \r\n",
        "file_read('test.txt')"
      ],
      "execution_count": 19,
      "outputs": [
        {
          "output_type": "stream",
          "text": [
            "['Welcome to 91social go digital\\n', '\\n', 'This is Sai Rushith']\n"
          ],
          "name": "stdout"
        }
      ]
    },
    {
      "cell_type": "markdown",
      "metadata": {
        "id": "0SwKTJgvwvH5"
      },
      "source": [
        "2:Write a Python program to calculate the number of days between two dates.\r\n",
        " Sample dates : (20200702), (20200711)"
      ]
    },
    {
      "cell_type": "code",
      "metadata": {
        "colab": {
          "base_uri": "https://localhost:8080/"
        },
        "id": "r1LObePNyAYY",
        "outputId": "749f2616-4cdb-41bb-ddfa-687c2a37b160"
      },
      "source": [
        "from datetime import date\r\n",
        "first_date = date(2020, 7, 2)\r\n",
        "last_date = date(2020, 7, 11)\r\n",
        "delta = l_date - f_date\r\n",
        "print(delta.days)"
      ],
      "execution_count": 22,
      "outputs": [
        {
          "output_type": "stream",
          "text": [
            "9\n"
          ],
          "name": "stdout"
        }
      ]
    },
    {
      "cell_type": "markdown",
      "metadata": {
        "id": "yg1NCdcyyvV8"
      },
      "source": [
        "3: Write a Python program to convert the Python dictionary object (sort by key) to\r\n",
        "JSON data. Print the object members with indent level 4.\r\n"
      ]
    },
    {
      "cell_type": "code",
      "metadata": {
        "colab": {
          "base_uri": "https://localhost:8080/"
        },
        "id": "wA58GRFTzEMj",
        "outputId": "cc7db790-92ed-4f3d-aeb1-1ba9e207d378"
      },
      "source": [
        "import json\r\n",
        "R_str = {'4': 5, '6': 7, '1': 3, '2': 4}\r\n",
        "print(\"Original String:\")\r\n",
        "print(R_str)\r\n",
        "print(\"\\nJSON data:\")\r\n",
        "print(json.dumps(R_str, sort_keys=True, indent=4))"
      ],
      "execution_count": 28,
      "outputs": [
        {
          "output_type": "stream",
          "text": [
            "Original String:\n",
            "{'4': 5, '6': 7, '1': 3, '2': 4}\n",
            "\n",
            "JSON data:\n",
            "{\n",
            "    \"1\": 3,\n",
            "    \"2\": 4,\n",
            "    \"4\": 5,\n",
            "    \"6\": 7\n",
            "}\n"
          ],
          "name": "stdout"
        }
      ]
    },
    {
      "cell_type": "markdown",
      "metadata": {
        "id": "eSQcAh5S0gCl"
      },
      "source": [
        "4: Write a Python program to sort a list of dictionaries using Lambda."
      ]
    },
    {
      "cell_type": "code",
      "metadata": {
        "colab": {
          "base_uri": "https://localhost:8080/"
        },
        "id": "aDI3ftX20mwW",
        "outputId": "fdd21451-cc05-40d6-a1a3-05373e2c61c8"
      },
      "source": [
        "models = [{'make':'Nokia', 'model':216, 'color':'Black'}, {'make':'Mi Max', 'model':'2', 'color':'Gold'}, {'make':'Samsung', 'model': 7, 'color':'Blue'}]\r\n",
        "print(\"Original list of dictionaries :\")\r\n",
        "print(models)\r\n",
        "sorted_models = sorted(models, key = lambda x: x['color'])\r\n",
        "print(\"\\nSorting the List of dictionaries :\")\r\n",
        "print(sorted_models)\r\n"
      ],
      "execution_count": 26,
      "outputs": [
        {
          "output_type": "stream",
          "text": [
            "Original list of dictionaries :\n",
            "[{'make': 'Nokia', 'model': 216, 'color': 'Black'}, {'make': 'Mi Max', 'model': '2', 'color': 'Gold'}, {'make': 'Samsung', 'model': 7, 'color': 'Blue'}]\n",
            "\n",
            "Sorting the List of dictionaries :\n",
            "[{'make': 'Nokia', 'model': 216, 'color': 'Black'}, {'make': 'Samsung', 'model': 7, 'color': 'Blue'}, {'make': 'Mi Max', 'model': '2', 'color': 'Gold'}]\n"
          ],
          "name": "stdout"
        }
      ]
    },
    {
      "cell_type": "markdown",
      "metadata": {
        "id": "raHCQ-1D1xep"
      },
      "source": [
        "5: Write a Python program that takes a text file as input and returns the number of\r\n",
        "words of a given text file."
      ]
    },
    {
      "cell_type": "code",
      "metadata": {
        "colab": {
          "base_uri": "https://localhost:8080/"
        },
        "id": "_cDGI63W12M0",
        "outputId": "f55314ad-776e-4406-939d-043ec3f0dbfa"
      },
      "source": [
        "def count_words(filepath):\r\n",
        "   with open(filepath) as f:\r\n",
        "       data = f.read()\r\n",
        "       data.replace(\",\", \" \")\r\n",
        "       return len(data.split(\" \"))\r\n",
        "print(count_words(\"count.txt\"))"
      ],
      "execution_count": 31,
      "outputs": [
        {
          "output_type": "stream",
          "text": [
            "5\n"
          ],
          "name": "stdout"
        }
      ]
    },
    {
      "cell_type": "markdown",
      "metadata": {
        "id": "_jLgu7lt4S_B"
      },
      "source": [
        "6: Write a Python program to convert an array to an array of machine values and\r\n",
        "return the bytes representation."
      ]
    },
    {
      "cell_type": "code",
      "metadata": {
        "colab": {
          "base_uri": "https://localhost:8080/"
        },
        "id": "s6KsX_Ss4UhY",
        "outputId": "5b70b833-da0a-429f-d0d1-8de918212e6b"
      },
      "source": [
        "from array import *\r\n",
        "print(\"Array of bytes \")\r\n",
        "A1 = array('i', [1,2,3,4,5,6])\r\n",
        "s = A1.tobytes()\r\n",
        "print(s)\r\n"
      ],
      "execution_count": 33,
      "outputs": [
        {
          "output_type": "stream",
          "text": [
            "Array of bytes \n",
            "b'\\x01\\x00\\x00\\x00\\x02\\x00\\x00\\x00\\x03\\x00\\x00\\x00\\x04\\x00\\x00\\x00\\x05\\x00\\x00\\x00\\x06\\x00\\x00\\x00'\n"
          ],
          "name": "stdout"
        }
      ]
    },
    {
      "cell_type": "markdown",
      "metadata": {
        "id": "TW7ZLx435q40"
      },
      "source": [
        "7:Write a script which can read the files line by line with .log ext and print it into a\r\n",
        "file , while printing the data from the suffix with present date and time of the system."
      ]
    },
    {
      "cell_type": "code",
      "metadata": {
        "id": "fxR3BLj85uGX"
      },
      "source": [
        "from datetime import date\r\n",
        "from datetime import datetime\r\n",
        "today = datetime.now()\r\n",
        "today=today.strftime(\"%d-%b-%Y (%H:%M:%S.%f)\")\r\n",
        "# Open output file in 'append' mode\r\n",
        "with open(\"output.txt\", \"a\") as out_file:\r\n",
        "    # Open input file in 'read' mode\r\n",
        "    with open(\"script.log\", \"r\") as in_file:\r\n",
        "        # Loop over each log line\r\n",
        "        for line in in_file:\r\n",
        "           \r\n",
        "           line=line+today\r\n",
        "           out_file.write(line)\r\n"
      ],
      "execution_count": 40,
      "outputs": []
    },
    {
      "cell_type": "code",
      "metadata": {
        "colab": {
          "base_uri": "https://localhost:8080/"
        },
        "id": "BIjfYbzW4Las",
        "outputId": "eacd63a0-a360-4d46-9aaf-c74affef9e0b"
      },
      "source": [
        "file_read(\"output.txt\")"
      ],
      "execution_count": 41,
      "outputs": [
        {
          "output_type": "stream",
          "text": [
            "['output file11:11 PM 04-01-2021 1702 2395 D WindowManager:\\n', '04-Jan-2021 (17:59:57.798396)printFreezingDisplayLogsopening app wtoken = AppWindowToken{9f4ef63\\n', '04-Jan-2021 (17:59:57.798396)token=Token{a64f992 ActivityRecord{de9231d u0\\n', '04-Jan-2021 (17:59:57.798396)com.tencent.qt.qtl/.activity.info.NewsDetailXmlActivity t761}}}, allDrawn= false,\\n', '04-Jan-2021 (17:59:57.798396)startingDisplayed = false, startingMoved = false, isRelaunching = false\\n', '04-Jan-2021 (17:59:57.798396) 11:12 PM 04-01-2021 1702 8671 D PowerManagerService: acquire lock=233570404,\\n', '04-Jan-2021 (17:59:57.798396)flags=0x1, tag=\"View Lock\", name=com.android.systemui, ws=null, uid=10037,\\n', '04-Jan-2021 (17:59:57.798396)pid=2227\\n', '04-Jan-2021 (17:59:57.798396) 11:12 PM 04-01-2021 1702 8671 D PowerManagerService:\\n', '04-Jan-2021 (17:59:57.798396)ready=true,policy=3,wakefulness=1,wksummary=0x23,uasummary=0x1,bootcomplete\\n', '04-Jan-2021 (17:59:57.798396)d=true,boostinprogress=false,waitmodeenable=false,mode=false,manual=38,auto=-1,a\\n', '04-Jan-2021 (17:59:57.798396)dj=0.0userId=0\\n', '04-Jan-2021 (17:59:57.798396) 11:12 PM 04-01-20211702 2113 V WindowManager: Skipping\\n', '04-Jan-2021 (17:59:57.798396)AppWindowToken{df0798e token=Token{78af589 ActivityRecord{3b04890 u0\\n', '04-Jan-2021 (17:59:57.798396)com.tencent.qt.qtl/com.tencent.video.player.activity.PlayerActivity t761}}} -- going to\\n', '04-Jan-2021 (17:59:57.798396)hide\\n', '04-Jan-2021 (17:59:57.798396) 11:12 PM 04-01-2021 2227 2227 D TextView: visible is system.time.showampm\\n', '04-Jan-2021 (17:59:57.798396) 11:12 PM 04-01-2021 2227 2227 D TextView: mVisiblity.getValue is false\\n', '04-Jan-2021 (17:59:57.798396) 11:12 PM 04-01-2021 2227 2227 D TextView: visible is system.charge.show\\n', '04-Jan-2021 (17:59:57.798396) 11:13 PM 04-01-2021 2227 2227 D TextView: visible is system.ownerinfo.show\\n', '04-Jan-2021 (17:59:57.798396) )04-Jan-2021 (17:59:57.798396)']\n"
          ],
          "name": "stdout"
        }
      ]
    },
    {
      "cell_type": "markdown",
      "metadata": {
        "id": "hLOnFPxGj7oP"
      },
      "source": [
        "8: Program to Generate random logs and write in a file , once the file size reaches 2Mb\r\n",
        "open new file and continue writing"
      ]
    },
    {
      "cell_type": "code",
      "metadata": {
        "colab": {
          "base_uri": "https://localhost:8080/"
        },
        "id": "kHRTQfxGkAg2",
        "outputId": "a9f7c2d2-83a8-4033-c655-1a124d64c0c1"
      },
      "source": [
        "import glob\r\n",
        "import logging\r\n",
        "import logging.handlers\r\n",
        "\r\n",
        "import random\r\n",
        "import string\r\n",
        "LOG_FILENAME = 'logging.out'\r\n",
        "\r\n",
        "# Set up a specific logger with our desired output level\r\n",
        "example_logger = logging.getLogger('MyLogger')\r\n",
        "example_logger.setLevel(logging.DEBUG)\r\n",
        "\r\n",
        "# Add the log message handler to the logger\r\n",
        "handler = logging.handlers.RotatingFileHandler(\r\n",
        "              LOG_FILENAME, maxBytes=2000000, backupCount=5)\r\n",
        "\r\n",
        "example_logger.addHandler(handler)\r\n",
        "\r\n",
        "# Log some messages\r\n",
        "for i in range(200):\r\n",
        "   #add some random data\r\n",
        "   letters = string.ascii_lowercase\r\n",
        "   #generating random text of length 10000 and appending as log\r\n",
        "   text=' '.join(random.choice(letters) for i in range(10000)) \r\n",
        "   example_logger.debug(text)\r\n",
        "\r\n",
        "# See what files are created\r\n",
        "logfiles = glob.glob('%s*' % LOG_FILENAME)\r\n",
        "\r\n",
        "for filename in logfiles:\r\n",
        "    print(filename)"
      ],
      "execution_count": 55,
      "outputs": [
        {
          "output_type": "stream",
          "text": [
            "logging.out.1\n",
            "logging.out.2\n",
            "logging.out\n"
          ],
          "name": "stdout"
        }
      ]
    },
    {
      "cell_type": "code",
      "metadata": {
        "colab": {
          "base_uri": "https://localhost:8080/"
        },
        "id": "Xzcg-CSExyty",
        "outputId": "7a419a4f-f5ca-4ca1-b6ae-edd87ea6a4cc"
      },
      "source": [
        "\r\n",
        "import os\r\n",
        "ipaddr = input('Enter the IP address:') \r\n",
        "stream = os.popen('ping -c 4 {}'.format(ipaddr)) \r\n",
        "output = stream.read() \r\n",
        "if '0 received' in output: \r\n",
        "  print('IP active') \r\n",
        "else: \r\n",
        "  print('IP inactive') \r\n",
        "\r\n",
        "print(output)"
      ],
      "execution_count": 57,
      "outputs": [
        {
          "output_type": "stream",
          "text": [
            "Enter the IP address:192.8.1\n",
            "IP inactive\n",
            "\n"
          ],
          "name": "stdout"
        }
      ]
    },
    {
      "cell_type": "code",
      "metadata": {
        "colab": {
          "base_uri": "https://localhost:8080/"
        },
        "id": "1HlF3eajuot_",
        "outputId": "ea771920-ca3f-483b-c544-84f71b809611"
      },
      "source": [
        "pip install wmi"
      ],
      "execution_count": 59,
      "outputs": [
        {
          "output_type": "stream",
          "text": [
            "Collecting wmi\n",
            "  Downloading https://files.pythonhosted.org/packages/ee/b9/a80d1ed4d115dac8e2ac08d16af046a77ab58e3d186e22395bf2add24090/WMI-1.5.1-py2.py3-none-any.whl\n",
            "\u001b[31mERROR: Could not find a version that satisfies the requirement pywin32 (from wmi) (from versions: none)\u001b[0m\n",
            "\u001b[31mERROR: No matching distribution found for pywin32 (from wmi)\u001b[0m\n"
          ],
          "name": "stdout"
        }
      ]
    },
    {
      "cell_type": "code",
      "metadata": {
        "id": "HPkV6F5-um9f"
      },
      "source": [
        "# importing the module \r\n",
        "import subprocess \r\n",
        "  \r\n",
        "# traverse the software list \r\n",
        "Data = subprocess.check_output(['wmic', 'product', 'get', 'name']) \r\n",
        "a = str(Data) \r\n",
        "  \r\n",
        "# try block \r\n",
        "try: \r\n",
        "    \r\n",
        "    # arrange the string \r\n",
        "    for i in range(len(a)): \r\n",
        "        print(a.split(\"\\\\r\\\\r\\\\n\")[6:][i]) \r\n",
        "  \r\n",
        "except IndexError as e: \r\n",
        "    print(\"All Done\")"
      ],
      "execution_count": null,
      "outputs": []
    }
  ]
}